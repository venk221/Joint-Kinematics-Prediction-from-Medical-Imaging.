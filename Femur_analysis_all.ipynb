{
 "cells": [
  {
   "cell_type": "code",
   "execution_count": 70,
   "id": "677c3dc8",
   "metadata": {},
   "outputs": [],
   "source": [
    "import open3d as o3d\n",
    "\n",
    "mesh = o3d.io.read_triangle_mesh(\"../84degrees/Segmentation_femur_84deg.stl\")\n",
    "pointcloud = mesh.sample_points_poisson_disk(20000)\n",
    "\n",
    "# you can plot and check\n",
    "o3d.visualization.draw_geometries([mesh])\n",
    "o3d.visualization.draw_geometries([pointcloud])"
   ]
  },
  {
   "cell_type": "code",
   "execution_count": 71,
   "id": "a0992136",
   "metadata": {},
   "outputs": [
    {
     "data": {
      "text/plain": [
       "True"
      ]
     },
     "execution_count": 71,
     "metadata": {},
     "output_type": "execute_result"
    }
   ],
   "source": [
    "o3d.io.write_point_cloud(\"../femur_pcls/84deg.ply\",pointcloud)"
   ]
  },
  {
   "cell_type": "code",
   "execution_count": 72,
   "id": "4e20223e",
   "metadata": {},
   "outputs": [],
   "source": [
    "pcd_load = o3d.io.read_point_cloud(\"../femur_pcls/84deg.ply\")\n",
    "o3d.visualization.draw_geometries([pcd_load])"
   ]
  },
  {
   "cell_type": "code",
   "execution_count": 73,
   "id": "d7398c3d",
   "metadata": {},
   "outputs": [],
   "source": [
    "import numpy as np"
   ]
  },
  {
   "cell_type": "code",
   "execution_count": 74,
   "id": "a768da44",
   "metadata": {},
   "outputs": [],
   "source": [
    "pc_array = np.asarray(pcd_load.points)"
   ]
  },
  {
   "cell_type": "code",
   "execution_count": 75,
   "id": "4963d159",
   "metadata": {},
   "outputs": [
    {
     "data": {
      "text/plain": [
       "(20000, 3)"
      ]
     },
     "execution_count": 75,
     "metadata": {},
     "output_type": "execute_result"
    }
   ],
   "source": [
    "pc_array.shape"
   ]
  },
  {
   "cell_type": "code",
   "execution_count": 76,
   "id": "0259444e",
   "metadata": {},
   "outputs": [
    {
     "name": "stdout",
     "output_type": "stream",
     "text": [
      "Testing kdtree in Open3D...\n",
      "Load a point cloud and paint it blue.\n"
     ]
    }
   ],
   "source": [
    "print(\"Testing kdtree in Open3D...\")\n",
    "print(\"Load a point cloud and paint it blue.\")\n",
    "pcd_load.paint_uniform_color([0.2, 0.6, 0.8])\n",
    "pcd_tree = o3d.geometry.KDTreeFlann(pcd_load)"
   ]
  },
  {
   "cell_type": "code",
   "execution_count": 77,
   "id": "ca9eda55",
   "metadata": {},
   "outputs": [],
   "source": [
    "import pandas as pd\n",
    "\n",
    "def in_cycle(center_x, center_y, radius, x, y):\n",
    "    return (x - center_x)**2 + (y - center_y)**2 <= radius**2"
   ]
  },
  {
   "cell_type": "code",
   "execution_count": 78,
   "id": "15642ad9",
   "metadata": {},
   "outputs": [],
   "source": [
    "df = pd.DataFrame(pc_array, columns=[\"x\",\"y\", \"z\"])"
   ]
  },
  {
   "cell_type": "code",
   "execution_count": 79,
   "id": "1af04077",
   "metadata": {},
   "outputs": [],
   "source": [
    "radius = 16\n",
    "deg= 84\n",
    "center_x = np.median(df['x'])\n",
    "center_y = np.median(df['y'])\n",
    "\n",
    "df_in_radius = df[df.apply(lambda x: in_cycle(center_x,center_y,radius, x.x,x.y), axis=1)]\n",
    "local_minimum = df_in_radius.loc[df_in_radius.z.idxmin()]"
   ]
  },
  {
   "cell_type": "code",
   "execution_count": null,
   "id": "4e6f8865",
   "metadata": {},
   "outputs": [],
   "source": []
  },
  {
   "cell_type": "code",
   "execution_count": 80,
   "id": "564fefa4",
   "metadata": {},
   "outputs": [
    {
     "data": {
      "text/plain": [
       "x   -105.127490\n",
       "y    118.499741\n",
       "z     -9.111352\n",
       "Name: 4500, dtype: float64"
      ]
     },
     "execution_count": 80,
     "metadata": {},
     "output_type": "execute_result"
    }
   ],
   "source": [
    "local_minimum"
   ]
  },
  {
   "cell_type": "code",
   "execution_count": 81,
   "id": "c7e3054d",
   "metadata": {},
   "outputs": [],
   "source": [
    "local_minimum=local_minimum.to_numpy()"
   ]
  },
  {
   "cell_type": "code",
   "execution_count": 82,
   "id": "e0afacff",
   "metadata": {},
   "outputs": [
    {
     "name": "stdout",
     "output_type": "stream",
     "text": [
      "Find its neighbors with distance less than 0.2, and paint them pink.\n"
     ]
    }
   ],
   "source": [
    "print(\"Find its neighbors with distance less than 0.2, and paint them pink.\")\n",
    "[k, idx, temp1] = pcd_tree.search_radius_vector_3d(pcd_load.points[np.where(np.all(np.asarray(pcd_load.points)==local_minimum, axis=(1)))[0][0]], 4)\n",
    "np.asarray(pcd_load.colors)[idx[1:], :] = [0.9, 0.6, 0.8]\n",
    "np.asarray(pcd_load.colors)[np.where(np.all(np.asarray(pcd_load.points)==local_minimum, axis=(1)))[0][0]] = [1, 0, 0]"
   ]
  },
  {
   "cell_type": "code",
   "execution_count": 83,
   "id": "19c82815",
   "metadata": {},
   "outputs": [
    {
     "name": "stdout",
     "output_type": "stream",
     "text": [
      "Visualize the point cloud.\n"
     ]
    }
   ],
   "source": [
    "print(\"Visualize the point cloud.\")\n",
    "o3d.visualization.draw_geometries([pcd_load],\n",
    "                                  zoom=0.5599,\n",
    "                                  front=[-0.4958, 0.8229, 0.2773],\n",
    "                                  lookat=[2.1126, 1.0163, -1.8543],\n",
    "                                  up=[0.1007, -0.2626, 0.9596])"
   ]
  },
  {
   "cell_type": "code",
   "execution_count": 84,
   "id": "3b9625c4",
   "metadata": {},
   "outputs": [],
   "source": [
    "np.save(\"../femur_pcls/minimas/84deg.npy\",local_minimum)"
   ]
  },
  {
   "cell_type": "code",
   "execution_count": 18,
   "id": "df2cde7b",
   "metadata": {},
   "outputs": [],
   "source": [
    "# radius_all=[]\n",
    "# deg_all=[]"
   ]
  },
  {
   "cell_type": "code",
   "execution_count": 85,
   "id": "0a4ed134",
   "metadata": {},
   "outputs": [],
   "source": [
    "radius_all.append(radius)\n",
    "deg_all.append(deg)"
   ]
  },
  {
   "cell_type": "code",
   "execution_count": 86,
   "id": "5128f3d8",
   "metadata": {},
   "outputs": [
    {
     "data": {
      "text/plain": [
       "[2, 7, 10, 16]"
      ]
     },
     "execution_count": 86,
     "metadata": {},
     "output_type": "execute_result"
    }
   ],
   "source": [
    "radius_all"
   ]
  },
  {
   "cell_type": "code",
   "execution_count": 87,
   "id": "63b5647b",
   "metadata": {},
   "outputs": [
    {
     "data": {
      "text/plain": [
       "[0, 23, 52, 84]"
      ]
     },
     "execution_count": 87,
     "metadata": {},
     "output_type": "execute_result"
    }
   ],
   "source": [
    "deg_all"
   ]
  },
  {
   "cell_type": "code",
   "execution_count": 88,
   "id": "dd61e046",
   "metadata": {},
   "outputs": [],
   "source": [
    "from sklearn.linear_model import LinearRegression"
   ]
  },
  {
   "cell_type": "code",
   "execution_count": 89,
   "id": "ef8394f4",
   "metadata": {},
   "outputs": [],
   "source": [
    "reg = LinearRegression().fit(np.reshape(deg_all,(-1,1)), np.reshape(radius_all,(-1,1)))"
   ]
  },
  {
   "cell_type": "code",
   "execution_count": 90,
   "id": "03f7daf1",
   "metadata": {},
   "outputs": [
    {
     "name": "stdout",
     "output_type": "stream",
     "text": [
      "Predicted radius= 12.782047244094485\n"
     ]
    }
   ],
   "source": [
    "predicted_radius=reg.predict(np.array([[65]]))\n",
    "print(\"Predicted radius=\",predicted_radius[0][0])"
   ]
  },
  {
   "cell_type": "markdown",
   "id": "251b326c",
   "metadata": {},
   "source": [
    "## Testing Prediction"
   ]
  },
  {
   "cell_type": "code",
   "execution_count": 91,
   "id": "01d9db7d",
   "metadata": {},
   "outputs": [],
   "source": [
    "import open3d as o3d\n",
    "\n",
    "mesh = o3d.io.read_triangle_mesh(\"../65degrees/Segmentation_femur_65deg.stl\")\n",
    "pointcloud = mesh.sample_points_poisson_disk(20000)\n",
    "\n",
    "# you can plot and check\n",
    "o3d.visualization.draw_geometries([mesh])\n",
    "o3d.visualization.draw_geometries([pointcloud])"
   ]
  },
  {
   "cell_type": "code",
   "execution_count": 92,
   "id": "1592da1d",
   "metadata": {},
   "outputs": [
    {
     "data": {
      "text/plain": [
       "True"
      ]
     },
     "execution_count": 92,
     "metadata": {},
     "output_type": "execute_result"
    }
   ],
   "source": [
    "o3d.io.write_point_cloud(\"../femur_pcls/65deg.ply\",pointcloud)"
   ]
  },
  {
   "cell_type": "code",
   "execution_count": 100,
   "id": "e6a8659d",
   "metadata": {},
   "outputs": [],
   "source": [
    "pcd_load = o3d.io.read_point_cloud(\"../femur_pcls/65deg.ply\")\n",
    "o3d.visualization.draw_geometries([pcd_load])"
   ]
  },
  {
   "cell_type": "code",
   "execution_count": 101,
   "id": "f7860ac6",
   "metadata": {},
   "outputs": [],
   "source": [
    "pc_array = np.asarray(pcd_load.points)"
   ]
  },
  {
   "cell_type": "code",
   "execution_count": 102,
   "id": "78e6706a",
   "metadata": {},
   "outputs": [
    {
     "name": "stdout",
     "output_type": "stream",
     "text": [
      "Testing kdtree in Open3D...\n",
      "Load a point cloud and paint it blue.\n"
     ]
    }
   ],
   "source": [
    "print(\"Testing kdtree in Open3D...\")\n",
    "print(\"Load a point cloud and paint it blue.\")\n",
    "pcd_load.paint_uniform_color([0.2, 0.6, 0.8])\n",
    "pcd_tree = o3d.geometry.KDTreeFlann(pcd_load)"
   ]
  },
  {
   "cell_type": "code",
   "execution_count": 103,
   "id": "68da42e4",
   "metadata": {},
   "outputs": [],
   "source": [
    "df = pd.DataFrame(pc_array, columns=[\"x\",\"y\", \"z\"])"
   ]
  },
  {
   "cell_type": "code",
   "execution_count": 104,
   "id": "03d9135d",
   "metadata": {},
   "outputs": [],
   "source": [
    "radius = predicted_radius[0][0]\n",
    "deg=65\n",
    "center_x = np.median(df['x'])\n",
    "center_y = np.median(df['y'])\n",
    "\n",
    "df_in_radius = df[df.apply(lambda x: in_cycle(center_x,center_y,radius, x.x,x.y), axis=1)]\n",
    "local_minimum = df_in_radius.loc[df_in_radius.z.idxmin()]"
   ]
  },
  {
   "cell_type": "code",
   "execution_count": 105,
   "id": "96e541f5",
   "metadata": {},
   "outputs": [
    {
     "data": {
      "text/plain": [
       "array([-119.80013113,  102.3511234 ,   84.25270109])"
      ]
     },
     "execution_count": 105,
     "metadata": {},
     "output_type": "execute_result"
    }
   ],
   "source": [
    "local_maximum"
   ]
  },
  {
   "cell_type": "code",
   "execution_count": 106,
   "id": "67495989",
   "metadata": {},
   "outputs": [],
   "source": [
    "local_minimum=local_minimum.to_numpy()"
   ]
  },
  {
   "cell_type": "code",
   "execution_count": 107,
   "id": "c917d682",
   "metadata": {},
   "outputs": [
    {
     "name": "stdout",
     "output_type": "stream",
     "text": [
      "Find its neighbors with distance less than 0.2, and paint them pink.\n"
     ]
    }
   ],
   "source": [
    "print(\"Find its neighbors with distance less than 0.2, and paint them pink.\")\n",
    "[k, idx, temp1] = pcd_tree.search_radius_vector_3d(pcd_load.points[np.where(np.all(np.asarray(pcd_load.points)==local_minimum, axis=(1)))[0][0]], 4)\n",
    "np.asarray(pcd_load.colors)[idx[1:], :] = [0.9, 0.6, 0.8]\n",
    "np.asarray(pcd_load.colors)[np.where(np.all(np.asarray(pcd_load.points)==local_minimum, axis=(1)))[0][0]] = [1, 0, 0]"
   ]
  },
  {
   "cell_type": "code",
   "execution_count": 108,
   "id": "cc0b42b5",
   "metadata": {},
   "outputs": [
    {
     "name": "stdout",
     "output_type": "stream",
     "text": [
      "Visualize the point cloud.\n"
     ]
    }
   ],
   "source": [
    "print(\"Visualize the point cloud.\")\n",
    "o3d.visualization.draw_geometries([pcd_load])"
   ]
  },
  {
   "cell_type": "code",
   "execution_count": 109,
   "id": "5ed6ca79",
   "metadata": {},
   "outputs": [
    {
     "data": {
      "text/html": [
       "<div>\n",
       "<style scoped>\n",
       "    .dataframe tbody tr th:only-of-type {\n",
       "        vertical-align: middle;\n",
       "    }\n",
       "\n",
       "    .dataframe tbody tr th {\n",
       "        vertical-align: top;\n",
       "    }\n",
       "\n",
       "    .dataframe thead th {\n",
       "        text-align: right;\n",
       "    }\n",
       "</style>\n",
       "<table border=\"1\" class=\"dataframe\">\n",
       "  <thead>\n",
       "    <tr style=\"text-align: right;\">\n",
       "      <th></th>\n",
       "      <th>x</th>\n",
       "      <th>y</th>\n",
       "      <th>z</th>\n",
       "    </tr>\n",
       "  </thead>\n",
       "  <tbody>\n",
       "    <tr>\n",
       "      <th>4816</th>\n",
       "      <td>-128.431970</td>\n",
       "      <td>113.026322</td>\n",
       "      <td>75.369524</td>\n",
       "    </tr>\n",
       "    <tr>\n",
       "      <th>4820</th>\n",
       "      <td>-129.104083</td>\n",
       "      <td>113.652468</td>\n",
       "      <td>74.412418</td>\n",
       "    </tr>\n",
       "    <tr>\n",
       "      <th>4823</th>\n",
       "      <td>-130.046780</td>\n",
       "      <td>112.885092</td>\n",
       "      <td>74.162343</td>\n",
       "    </tr>\n",
       "    <tr>\n",
       "      <th>4827</th>\n",
       "      <td>-130.096329</td>\n",
       "      <td>113.919510</td>\n",
       "      <td>73.414898</td>\n",
       "    </tr>\n",
       "    <tr>\n",
       "      <th>4830</th>\n",
       "      <td>-131.643768</td>\n",
       "      <td>114.012249</td>\n",
       "      <td>72.020090</td>\n",
       "    </tr>\n",
       "    <tr>\n",
       "      <th>...</th>\n",
       "      <td>...</td>\n",
       "      <td>...</td>\n",
       "      <td>...</td>\n",
       "    </tr>\n",
       "    <tr>\n",
       "      <th>14021</th>\n",
       "      <td>-130.506977</td>\n",
       "      <td>89.459473</td>\n",
       "      <td>37.500577</td>\n",
       "    </tr>\n",
       "    <tr>\n",
       "      <th>14026</th>\n",
       "      <td>-131.816742</td>\n",
       "      <td>88.777172</td>\n",
       "      <td>35.175612</td>\n",
       "    </tr>\n",
       "    <tr>\n",
       "      <th>14034</th>\n",
       "      <td>-132.949176</td>\n",
       "      <td>89.279588</td>\n",
       "      <td>32.464307</td>\n",
       "    </tr>\n",
       "    <tr>\n",
       "      <th>14044</th>\n",
       "      <td>-133.782664</td>\n",
       "      <td>89.163645</td>\n",
       "      <td>29.790370</td>\n",
       "    </tr>\n",
       "    <tr>\n",
       "      <th>14047</th>\n",
       "      <td>-134.071100</td>\n",
       "      <td>89.001157</td>\n",
       "      <td>28.976694</td>\n",
       "    </tr>\n",
       "  </tbody>\n",
       "</table>\n",
       "<p>1564 rows × 3 columns</p>\n",
       "</div>"
      ],
      "text/plain": [
       "                x           y          z\n",
       "4816  -128.431970  113.026322  75.369524\n",
       "4820  -129.104083  113.652468  74.412418\n",
       "4823  -130.046780  112.885092  74.162343\n",
       "4827  -130.096329  113.919510  73.414898\n",
       "4830  -131.643768  114.012249  72.020090\n",
       "...           ...         ...        ...\n",
       "14021 -130.506977   89.459473  37.500577\n",
       "14026 -131.816742   88.777172  35.175612\n",
       "14034 -132.949176   89.279588  32.464307\n",
       "14044 -133.782664   89.163645  29.790370\n",
       "14047 -134.071100   89.001157  28.976694\n",
       "\n",
       "[1564 rows x 3 columns]"
      ]
     },
     "execution_count": 109,
     "metadata": {},
     "output_type": "execute_result"
    }
   ],
   "source": [
    "df_in_radius"
   ]
  },
  {
   "cell_type": "code",
   "execution_count": 110,
   "id": "dc44d3b0",
   "metadata": {},
   "outputs": [],
   "source": [
    "np.save(\"../femur_pcls/minimas/65deg.npy\",local_maximum)"
   ]
  },
  {
   "cell_type": "code",
   "execution_count": null,
   "id": "cc83f208",
   "metadata": {},
   "outputs": [],
   "source": []
  }
 ],
 "metadata": {
  "kernelspec": {
   "display_name": "Python 3",
   "language": "python",
   "name": "python3"
  },
  "language_info": {
   "codemirror_mode": {
    "name": "ipython",
    "version": 3
   },
   "file_extension": ".py",
   "mimetype": "text/x-python",
   "name": "python",
   "nbconvert_exporter": "python",
   "pygments_lexer": "ipython3",
   "version": "3.7.0"
  }
 },
 "nbformat": 4,
 "nbformat_minor": 5
}
