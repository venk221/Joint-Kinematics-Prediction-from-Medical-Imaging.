{
 "cells": [
  {
   "cell_type": "code",
   "execution_count": 268,
   "id": "677c3dc8",
   "metadata": {},
   "outputs": [],
   "source": [
    "import open3d as o3d\n",
    "\n",
    "mesh = o3d.io.read_triangle_mesh(\"../84degrees/Segmentation_tibia_84deg.stl\")\n",
    "pointcloud = mesh.sample_points_poisson_disk(20000)\n",
    "\n",
    "# you can plot and check\n",
    "o3d.visualization.draw_geometries([mesh])\n",
    "o3d.visualization.draw_geometries([pointcloud])"
   ]
  },
  {
   "cell_type": "code",
   "execution_count": 269,
   "id": "a0992136",
   "metadata": {},
   "outputs": [
    {
     "data": {
      "text/plain": [
       "True"
      ]
     },
     "execution_count": 269,
     "metadata": {},
     "output_type": "execute_result"
    }
   ],
   "source": [
    "o3d.io.write_point_cloud(\"../tibia_pcls/84deg.ply\",pointcloud)"
   ]
  },
  {
   "cell_type": "code",
   "execution_count": 270,
   "id": "4e20223e",
   "metadata": {},
   "outputs": [],
   "source": [
    "pcd_load = o3d.io.read_point_cloud(\"../tibia_pcls/84deg.ply\")\n",
    "o3d.visualization.draw_geometries([pcd_load])"
   ]
  },
  {
   "cell_type": "code",
   "execution_count": 271,
   "id": "d7398c3d",
   "metadata": {},
   "outputs": [],
   "source": [
    "import numpy as np"
   ]
  },
  {
   "cell_type": "code",
   "execution_count": 272,
   "id": "a768da44",
   "metadata": {},
   "outputs": [],
   "source": [
    "pc_array = np.asarray(pcd_load.points)"
   ]
  },
  {
   "cell_type": "code",
   "execution_count": 273,
   "id": "4963d159",
   "metadata": {},
   "outputs": [
    {
     "data": {
      "text/plain": [
       "(20000, 3)"
      ]
     },
     "execution_count": 273,
     "metadata": {},
     "output_type": "execute_result"
    }
   ],
   "source": [
    "pc_array.shape"
   ]
  },
  {
   "cell_type": "code",
   "execution_count": 292,
   "id": "0259444e",
   "metadata": {},
   "outputs": [
    {
     "name": "stdout",
     "output_type": "stream",
     "text": [
      "Testing kdtree in Open3D...\n",
      "Load a point cloud and paint it blue.\n"
     ]
    }
   ],
   "source": [
    "print(\"Testing kdtree in Open3D...\")\n",
    "print(\"Load a point cloud and paint it blue.\")\n",
    "pcd_load.paint_uniform_color([0.2, 0.6, 0.8])\n",
    "pcd_tree = o3d.geometry.KDTreeFlann(pcd_load)"
   ]
  },
  {
   "cell_type": "code",
   "execution_count": 293,
   "id": "ca9eda55",
   "metadata": {},
   "outputs": [],
   "source": [
    "import pandas as pd\n",
    "\n",
    "def in_cycle(center_x, center_y, radius, x, y):\n",
    "    return (x - center_x)**2 + (y - center_y)**2 <= radius**2"
   ]
  },
  {
   "cell_type": "code",
   "execution_count": 276,
   "id": "15642ad9",
   "metadata": {},
   "outputs": [],
   "source": [
    "df = pd.DataFrame(pc_array, columns=[\"x\",\"y\", \"z\"])"
   ]
  },
  {
   "cell_type": "code",
   "execution_count": 320,
   "id": "1af04077",
   "metadata": {},
   "outputs": [],
   "source": [
    "radius = 16\n",
    "deg=84\n",
    "center_x = np.median(df['x'])\n",
    "center_y = np.median(df['y'])\n",
    "\n",
    "df_in_radius = df[df.apply(lambda x: in_cycle(center_x,center_y,radius, x.x,x.y), axis=1)]\n",
    "local_maximum = df_in_radius.loc[df_in_radius.z.idxmax()]"
   ]
  },
  {
   "cell_type": "code",
   "execution_count": null,
   "id": "4e6f8865",
   "metadata": {},
   "outputs": [],
   "source": []
  },
  {
   "cell_type": "code",
   "execution_count": 321,
   "id": "564fefa4",
   "metadata": {},
   "outputs": [
    {
     "data": {
      "text/plain": [
       "x   -86.961737\n",
       "y    66.563689\n",
       "z    -4.342423\n",
       "Name: 11737, dtype: float64"
      ]
     },
     "execution_count": 321,
     "metadata": {},
     "output_type": "execute_result"
    }
   ],
   "source": [
    "local_maximum"
   ]
  },
  {
   "cell_type": "code",
   "execution_count": 322,
   "id": "c7e3054d",
   "metadata": {},
   "outputs": [],
   "source": [
    "local_maximum=local_maximum.to_numpy()"
   ]
  },
  {
   "cell_type": "code",
   "execution_count": 323,
   "id": "e0afacff",
   "metadata": {},
   "outputs": [
    {
     "name": "stdout",
     "output_type": "stream",
     "text": [
      "Find its neighbors with distance less than 0.2, and paint them pink.\n"
     ]
    }
   ],
   "source": [
    "print(\"Find its neighbors with distance less than 0.2, and paint them pink.\")\n",
    "[k, idx, temp1] = pcd_tree.search_radius_vector_3d(pcd_load.points[np.where(np.all(np.asarray(pcd_load.points)==local_maximum, axis=(1)))[0][0]], 4)\n",
    "np.asarray(pcd_load.colors)[idx[1:], :] = [0.9, 0.6, 0.8]\n",
    "np.asarray(pcd_load.colors)[np.where(np.all(np.asarray(pcd_load.points)==local_maximum, axis=(1)))[0][0]] = [1, 0, 0]"
   ]
  },
  {
   "cell_type": "code",
   "execution_count": 324,
   "id": "19c82815",
   "metadata": {},
   "outputs": [
    {
     "name": "stdout",
     "output_type": "stream",
     "text": [
      "Visualize the point cloud.\n"
     ]
    }
   ],
   "source": [
    "print(\"Visualize the point cloud.\")\n",
    "o3d.visualization.draw_geometries([pcd_load],\n",
    "                                  zoom=0.5599,\n",
    "                                  front=[-0.4958, 0.8229, 0.2773],\n",
    "                                  lookat=[2.1126, 1.0163, -1.8543],\n",
    "                                  up=[0.1007, -0.2626, 0.9596])"
   ]
  },
  {
   "cell_type": "code",
   "execution_count": 325,
   "id": "3b9625c4",
   "metadata": {},
   "outputs": [],
   "source": [
    "np.save(\"../tibia_pcls/maximas/84deg.npy\",local_maximum)"
   ]
  },
  {
   "cell_type": "code",
   "execution_count": 62,
   "id": "df2cde7b",
   "metadata": {},
   "outputs": [],
   "source": [
    "# radius_all=[]\n",
    "# deg_all=[]"
   ]
  },
  {
   "cell_type": "code",
   "execution_count": 326,
   "id": "0a4ed134",
   "metadata": {},
   "outputs": [],
   "source": [
    "radius_all.append(radius)\n",
    "deg_all.append(deg)"
   ]
  },
  {
   "cell_type": "code",
   "execution_count": 327,
   "id": "5128f3d8",
   "metadata": {},
   "outputs": [
    {
     "data": {
      "text/plain": [
       "[10, 5, 8, 16]"
      ]
     },
     "execution_count": 327,
     "metadata": {},
     "output_type": "execute_result"
    }
   ],
   "source": [
    "radius_all"
   ]
  },
  {
   "cell_type": "code",
   "execution_count": 328,
   "id": "63b5647b",
   "metadata": {},
   "outputs": [
    {
     "data": {
      "text/plain": [
       "[52, 0, 23, 84]"
      ]
     },
     "execution_count": 328,
     "metadata": {},
     "output_type": "execute_result"
    }
   ],
   "source": [
    "deg_all"
   ]
  },
  {
   "cell_type": "code",
   "execution_count": 330,
   "id": "dd61e046",
   "metadata": {},
   "outputs": [],
   "source": [
    "from sklearn.linear_model import LinearRegression"
   ]
  },
  {
   "cell_type": "code",
   "execution_count": 340,
   "id": "ef8394f4",
   "metadata": {},
   "outputs": [],
   "source": [
    "reg = LinearRegression().fit(np.reshape(deg_all,(-1,1)), np.reshape(radius_all,(-1,1)))"
   ]
  },
  {
   "cell_type": "code",
   "execution_count": 343,
   "id": "03f7daf1",
   "metadata": {},
   "outputs": [
    {
     "name": "stdout",
     "output_type": "stream",
     "text": [
      "Predicted radius= 12.916787401574801\n"
     ]
    }
   ],
   "source": [
    "predicted_radius=reg.predict(np.array([[65]]))\n",
    "print(\"Predicted radius=\",predicted_radius[0][0])"
   ]
  },
  {
   "cell_type": "markdown",
   "id": "251b326c",
   "metadata": {},
   "source": [
    "## Testing Prediction"
   ]
  },
  {
   "cell_type": "code",
   "execution_count": 344,
   "id": "01d9db7d",
   "metadata": {},
   "outputs": [],
   "source": [
    "import open3d as o3d\n",
    "\n",
    "mesh = o3d.io.read_triangle_mesh(\"../65degrees/Segmentation_tibia_65deg.stl\")\n",
    "pointcloud = mesh.sample_points_poisson_disk(20000)\n",
    "\n",
    "# you can plot and check\n",
    "o3d.visualization.draw_geometries([mesh])\n",
    "o3d.visualization.draw_geometries([pointcloud])"
   ]
  },
  {
   "cell_type": "code",
   "execution_count": 345,
   "id": "1592da1d",
   "metadata": {},
   "outputs": [
    {
     "data": {
      "text/plain": [
       "True"
      ]
     },
     "execution_count": 345,
     "metadata": {},
     "output_type": "execute_result"
    }
   ],
   "source": [
    "o3d.io.write_point_cloud(\"../tibia_pcls/65deg.ply\",pointcloud)"
   ]
  },
  {
   "cell_type": "code",
   "execution_count": 346,
   "id": "e6a8659d",
   "metadata": {},
   "outputs": [],
   "source": [
    "pcd_load = o3d.io.read_point_cloud(\"../tibia_pcls/65deg.ply\")\n",
    "o3d.visualization.draw_geometries([pcd_load])"
   ]
  },
  {
   "cell_type": "code",
   "execution_count": 347,
   "id": "f7860ac6",
   "metadata": {},
   "outputs": [],
   "source": [
    "pc_array = np.asarray(pcd_load.points)"
   ]
  },
  {
   "cell_type": "code",
   "execution_count": 348,
   "id": "78e6706a",
   "metadata": {},
   "outputs": [
    {
     "name": "stdout",
     "output_type": "stream",
     "text": [
      "Testing kdtree in Open3D...\n",
      "Load a point cloud and paint it blue.\n"
     ]
    }
   ],
   "source": [
    "print(\"Testing kdtree in Open3D...\")\n",
    "print(\"Load a point cloud and paint it blue.\")\n",
    "pcd_load.paint_uniform_color([0.2, 0.6, 0.8])\n",
    "pcd_tree = o3d.geometry.KDTreeFlann(pcd_load)"
   ]
  },
  {
   "cell_type": "code",
   "execution_count": 349,
   "id": "68da42e4",
   "metadata": {},
   "outputs": [],
   "source": [
    "df = pd.DataFrame(pc_array, columns=[\"x\",\"y\", \"z\"])"
   ]
  },
  {
   "cell_type": "code",
   "execution_count": 369,
   "id": "03d9135d",
   "metadata": {},
   "outputs": [],
   "source": [
    "radius = predicted_radius[0][0]\n",
    "deg=65\n",
    "center_x = np.median(df['x'])\n",
    "center_y = np.median(df['y'])\n",
    "\n",
    "df_in_radius = df[df.apply(lambda x: in_cycle(center_x,center_y,radius, x.x,x.y), axis=1)]\n",
    "local_maximum = df_in_radius.loc[df_in_radius.z.idxmax()]"
   ]
  },
  {
   "cell_type": "code",
   "execution_count": 370,
   "id": "96e541f5",
   "metadata": {},
   "outputs": [
    {
     "data": {
      "text/plain": [
       "x   -125.039527\n",
       "y     61.122884\n",
       "z     -3.164291\n",
       "Name: 13494, dtype: float64"
      ]
     },
     "execution_count": 370,
     "metadata": {},
     "output_type": "execute_result"
    }
   ],
   "source": [
    "local_maximum"
   ]
  },
  {
   "cell_type": "code",
   "execution_count": 371,
   "id": "67495989",
   "metadata": {},
   "outputs": [],
   "source": [
    "local_maximum=local_maximum.to_numpy()"
   ]
  },
  {
   "cell_type": "code",
   "execution_count": 372,
   "id": "c917d682",
   "metadata": {},
   "outputs": [
    {
     "name": "stdout",
     "output_type": "stream",
     "text": [
      "Find its neighbors with distance less than 0.2, and paint them pink.\n"
     ]
    }
   ],
   "source": [
    "print(\"Find its neighbors with distance less than 0.2, and paint them pink.\")\n",
    "[k, idx, temp1] = pcd_tree.search_radius_vector_3d(pcd_load.points[np.where(np.all(np.asarray(pcd_load.points)==local_maximum, axis=(1)))[0][0]], 4)\n",
    "np.asarray(pcd_load.colors)[idx[1:], :] = [0.9, 0.6, 0.8]\n",
    "np.asarray(pcd_load.colors)[np.where(np.all(np.asarray(pcd_load.points)==local_maximum, axis=(1)))[0][0]] = [1, 0, 0]"
   ]
  },
  {
   "cell_type": "code",
   "execution_count": 373,
   "id": "cc0b42b5",
   "metadata": {},
   "outputs": [
    {
     "name": "stdout",
     "output_type": "stream",
     "text": [
      "Visualize the point cloud.\n"
     ]
    }
   ],
   "source": [
    "print(\"Visualize the point cloud.\")\n",
    "o3d.visualization.draw_geometries([pcd_load])"
   ]
  },
  {
   "cell_type": "code",
   "execution_count": 363,
   "id": "5ed6ca79",
   "metadata": {},
   "outputs": [
    {
     "data": {
      "text/html": [
       "<div>\n",
       "<style scoped>\n",
       "    .dataframe tbody tr th:only-of-type {\n",
       "        vertical-align: middle;\n",
       "    }\n",
       "\n",
       "    .dataframe tbody tr th {\n",
       "        vertical-align: top;\n",
       "    }\n",
       "\n",
       "    .dataframe thead th {\n",
       "        text-align: right;\n",
       "    }\n",
       "</style>\n",
       "<table border=\"1\" class=\"dataframe\">\n",
       "  <thead>\n",
       "    <tr style=\"text-align: right;\">\n",
       "      <th></th>\n",
       "      <th>x</th>\n",
       "      <th>y</th>\n",
       "      <th>z</th>\n",
       "    </tr>\n",
       "  </thead>\n",
       "  <tbody>\n",
       "    <tr>\n",
       "      <th>6346</th>\n",
       "      <td>-128.645557</td>\n",
       "      <td>85.601616</td>\n",
       "      <td>-9.557243</td>\n",
       "    </tr>\n",
       "    <tr>\n",
       "      <th>6682</th>\n",
       "      <td>-127.806657</td>\n",
       "      <td>85.428829</td>\n",
       "      <td>-9.607865</td>\n",
       "    </tr>\n",
       "    <tr>\n",
       "      <th>6690</th>\n",
       "      <td>-125.018966</td>\n",
       "      <td>84.133482</td>\n",
       "      <td>-10.042711</td>\n",
       "    </tr>\n",
       "    <tr>\n",
       "      <th>6691</th>\n",
       "      <td>-125.663353</td>\n",
       "      <td>84.661928</td>\n",
       "      <td>-9.860117</td>\n",
       "    </tr>\n",
       "    <tr>\n",
       "      <th>6692</th>\n",
       "      <td>-126.473708</td>\n",
       "      <td>84.296958</td>\n",
       "      <td>-9.857415</td>\n",
       "    </tr>\n",
       "    <tr>\n",
       "      <th>...</th>\n",
       "      <td>...</td>\n",
       "      <td>...</td>\n",
       "      <td>...</td>\n",
       "    </tr>\n",
       "    <tr>\n",
       "      <th>14436</th>\n",
       "      <td>-130.459143</td>\n",
       "      <td>60.110969</td>\n",
       "      <td>-71.047314</td>\n",
       "    </tr>\n",
       "    <tr>\n",
       "      <th>14453</th>\n",
       "      <td>-129.382765</td>\n",
       "      <td>60.156573</td>\n",
       "      <td>-75.058647</td>\n",
       "    </tr>\n",
       "    <tr>\n",
       "      <th>14472</th>\n",
       "      <td>-128.326224</td>\n",
       "      <td>60.210932</td>\n",
       "      <td>-79.824650</td>\n",
       "    </tr>\n",
       "    <tr>\n",
       "      <th>14474</th>\n",
       "      <td>-128.298604</td>\n",
       "      <td>60.336082</td>\n",
       "      <td>-80.661786</td>\n",
       "    </tr>\n",
       "    <tr>\n",
       "      <th>14505</th>\n",
       "      <td>-127.021624</td>\n",
       "      <td>60.265423</td>\n",
       "      <td>-87.939971</td>\n",
       "    </tr>\n",
       "  </tbody>\n",
       "</table>\n",
       "<p>2894 rows × 3 columns</p>\n",
       "</div>"
      ],
      "text/plain": [
       "                x          y          z\n",
       "6346  -128.645557  85.601616  -9.557243\n",
       "6682  -127.806657  85.428829  -9.607865\n",
       "6690  -125.018966  84.133482 -10.042711\n",
       "6691  -125.663353  84.661928  -9.860117\n",
       "6692  -126.473708  84.296958  -9.857415\n",
       "...           ...        ...        ...\n",
       "14436 -130.459143  60.110969 -71.047314\n",
       "14453 -129.382765  60.156573 -75.058647\n",
       "14472 -128.326224  60.210932 -79.824650\n",
       "14474 -128.298604  60.336082 -80.661786\n",
       "14505 -127.021624  60.265423 -87.939971\n",
       "\n",
       "[2894 rows x 3 columns]"
      ]
     },
     "execution_count": 363,
     "metadata": {},
     "output_type": "execute_result"
    }
   ],
   "source": [
    "df_in_radius"
   ]
  },
  {
   "cell_type": "code",
   "execution_count": 374,
   "id": "dc44d3b0",
   "metadata": {},
   "outputs": [],
   "source": [
    "np.save(\"../tibia_pcls/maximas/65deg.npy\",local_maximum)"
   ]
  },
  {
   "cell_type": "code",
   "execution_count": null,
   "id": "cc83f208",
   "metadata": {},
   "outputs": [],
   "source": []
  }
 ],
 "metadata": {
  "kernelspec": {
   "display_name": "Python 3",
   "language": "python",
   "name": "python3"
  },
  "language_info": {
   "codemirror_mode": {
    "name": "ipython",
    "version": 3
   },
   "file_extension": ".py",
   "mimetype": "text/x-python",
   "name": "python",
   "nbconvert_exporter": "python",
   "pygments_lexer": "ipython3",
   "version": "3.7.0"
  }
 },
 "nbformat": 4,
 "nbformat_minor": 5
}
